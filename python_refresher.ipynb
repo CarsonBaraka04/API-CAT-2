{
  "nbformat": 4,
  "nbformat_minor": 0,
  "metadata": {
    "colab": {
      "provenance": [],
      "authorship_tag": "ABX9TyNUmZc1NTa/PuxSa6EvpHqD",
      "include_colab_link": true
    },
    "kernelspec": {
      "name": "python3",
      "display_name": "Python 3"
    },
    "language_info": {
      "name": "python"
    }
  },
  "cells": [
    {
      "cell_type": "markdown",
      "metadata": {
        "id": "view-in-github",
        "colab_type": "text"
      },
      "source": [
        "<a href=\"https://colab.research.google.com/github/CarsonBaraka04/API-CAT-2/blob/main/python_refresher.ipynb\" target=\"_parent\"><img src=\"https://colab.research.google.com/assets/colab-badge.svg\" alt=\"Open In Colab\"/></a>"
      ]
    },
    {
      "cell_type": "markdown",
      "source": [
        "Q1"
      ],
      "metadata": {
        "id": "khc4uydbZGb2"
      }
    },
    {
      "cell_type": "code",
      "execution_count": null,
      "metadata": {
        "colab": {
          "base_uri": "https://localhost:8080/"
        },
        "id": "I_DgiAXcYPec",
        "outputId": "c7df156f-e60b-4db3-b829-239a5af9beb2"
      },
      "outputs": [
        {
          "output_type": "stream",
          "name": "stdout",
          "text": [
            "Enter number of days: 4\n",
            "4 days have 345600 seconds\n"
          ]
        }
      ],
      "source": [
        "days=int(input(\"Enter number of days: \"))\n",
        "seconds=days*24*60*60\n",
        "print(f\"{days} days have {seconds} seconds\")"
      ]
    },
    {
      "cell_type": "markdown",
      "source": [
        "Q2"
      ],
      "metadata": {
        "id": "95323ZaBZBUQ"
      }
    },
    {
      "cell_type": "code",
      "source": [
        "radius=int(input(\"What is the radius: \"))\n",
        "volume=4/3*22/7*radius**3\n",
        "print(f\"The volume is {volume}\")"
      ],
      "metadata": {
        "colab": {
          "base_uri": "https://localhost:8080/"
        },
        "id": "WAVXkpUZYkNF",
        "outputId": "acd46276-c831-48db-f80d-27ee75df6f00"
      },
      "execution_count": null,
      "outputs": [
        {
          "output_type": "stream",
          "name": "stdout",
          "text": [
            "What is the radius: 7.7\n",
            "The volume is 4.190476190476191\n"
          ]
        }
      ]
    },
    {
      "cell_type": "markdown",
      "source": [
        "Q3"
      ],
      "metadata": {
        "id": "S-6gn1gKalrV"
      }
    },
    {
      "cell_type": "code",
      "source": [
        "length= int(input(\"Input the length: \"))\n",
        "area= length*length # area\n",
        "perim=length+length+length+length # perimeter\n",
        "if length:\n",
        " print(\"the area is\", area)\n",
        " print(\"the perimeter is\", perim)"
      ],
      "metadata": {
        "id": "wOXhJU9CaNXF",
        "colab": {
          "base_uri": "https://localhost:8080/"
        },
        "outputId": "d65cbc6d-76ae-4f81-954e-132c84211f14"
      },
      "execution_count": null,
      "outputs": [
        {
          "output_type": "stream",
          "name": "stdout",
          "text": [
            "Input the length: 5\n",
            "the area is 25\n",
            "the perimeter is 20\n"
          ]
        }
      ]
    },
    {
      "cell_type": "markdown",
      "source": [
        "Q4"
      ],
      "metadata": {
        "id": "mKJDSXBfYTd4"
      }
    },
    {
      "cell_type": "code",
      "source": [
        "def check_case(char): # function that evaluates the character\n",
        " if char.isupper():\n",
        "    print(\"the character is an uppercase\")\n",
        " elif char.islower():\n",
        "    print(\"the character is a lower case\")\n",
        " else:\n",
        "    print(\"the number inserted is not a character\")\n",
        "\n",
        "user=input(\"input one character: \")\n",
        "\n",
        "if len(user) == 1:\n",
        "    result= check_case(user)\n",
        "    print (result)"
      ],
      "metadata": {
        "colab": {
          "base_uri": "https://localhost:8080/"
        },
        "id": "RG-V4Z7RYTL4",
        "outputId": "178be6e6-5a8c-4cdb-abb8-de683db6572a"
      },
      "execution_count": null,
      "outputs": [
        {
          "output_type": "stream",
          "name": "stdout",
          "text": [
            "input one character: A\n",
            "the character is an uppercase\n",
            "None\n"
          ]
        }
      ]
    },
    {
      "cell_type": "markdown",
      "source": [
        "Q5"
      ],
      "metadata": {
        "id": "BhEVwDV9Yq50"
      }
    },
    {
      "cell_type": "code",
      "source": [
        "x = 0\n",
        "y = 20\n",
        "while y >= 6 :# iteration to happen if the number is still greater or equal to 6\n",
        "    y -= 4\n",
        "    x += 2 /y\n",
        "print(\"The result is\", x)"
      ],
      "metadata": {
        "colab": {
          "base_uri": "https://localhost:8080/"
        },
        "id": "bORVQm-rYtp8",
        "outputId": "bdca4fe3-ac5c-455b-f719-94a0059ebda6"
      },
      "execution_count": null,
      "outputs": [
        {
          "output_type": "stream",
          "name": "stdout",
          "text": [
            "The result is 1.0416666666666665\n"
          ]
        }
      ]
    },
    {
      "cell_type": "markdown",
      "source": [
        "Q6"
      ],
      "metadata": {
        "id": "uUpXVH-HaE8A"
      }
    },
    {
      "cell_type": "code",
      "source": [
        "value = []\n",
        "print(\"enter 5 value: \")\n",
        "while len(value) <5:\n",
        "    try:\n",
        "        user = int(input(f\"enter value {len(value) +1:}: \"))\n",
        "        value.append(user)\n",
        "    except ValueError:\n",
        "        print(\"invalid output, enter a numerical number\")\n",
        "print(\"array contains:\", value)"
      ],
      "metadata": {
        "colab": {
          "base_uri": "https://localhost:8080/"
        },
        "id": "2caONvBxaEo0",
        "outputId": "e901d82d-838c-4639-8074-703a61e8a444"
      },
      "execution_count": null,
      "outputs": [
        {
          "output_type": "stream",
          "name": "stdout",
          "text": [
            "enter 5 value: \n",
            "enter value 1R\n",
            "invalid output, enter a numerical number\n",
            "enter value 12\n",
            "enter value 23\n",
            "enter value 34\n",
            "enter value 45\n",
            "enter value 56\n",
            "array contains: [2, 3, 4, 5, 6]\n"
          ]
        }
      ]
    },
    {
      "cell_type": "markdown",
      "source": [
        "Bonus Question(Q7)"
      ],
      "metadata": {
        "id": "-7IhYvQQbO1K"
      }
    },
    {
      "cell_type": "code",
      "source": [
        "def solution(A):\n",
        "  Trial = set()\n",
        "  left = 0\n",
        "  right = len(A) - 1\n",
        "\n",
        "  while left <= right:\n",
        "    left_val = abs(A[left])\n",
        "    right_val = abs(A[right])\n",
        "\n",
        "    Trial.add(left_val)\n",
        "    Trial.add(right_val)\n",
        "\n",
        "    if left_val > right_val:\n",
        "      left += 1\n",
        "    elif left < right_val:\n",
        "      right -= 1\n",
        "    else:\n",
        "      right -= 1\n",
        "      left += 1\n",
        "  return len(Trial)\n",
        "\n",
        "A = [-20, 30, -30, -60, -13]\n",
        "print(solution(A))"
      ],
      "metadata": {
        "colab": {
          "base_uri": "https://localhost:8080/"
        },
        "id": "PWgdHFlqdZ3i",
        "outputId": "83546f8d-4417-4d13-ab4f-18fae6f38c95"
      },
      "execution_count": null,
      "outputs": [
        {
          "output_type": "stream",
          "name": "stdout",
          "text": [
            "4\n"
          ]
        }
      ]
    }
  ]
}